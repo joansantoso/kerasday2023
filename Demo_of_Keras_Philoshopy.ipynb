{
  "nbformat": 4,
  "nbformat_minor": 0,
  "metadata": {
    "colab": {
      "provenance": [],
      "gpuType": "T4"
    },
    "kernelspec": {
      "name": "python3",
      "display_name": "Python 3"
    },
    "language_info": {
      "name": "python"
    },
    "accelerator": "GPU"
  },
  "cells": [
    {
      "cell_type": "markdown",
      "source": [
        "###Fully Connected"
      ],
      "metadata": {
        "id": "qBkIrbTTh2WM"
      }
    },
    {
      "cell_type": "code",
      "execution_count": null,
      "metadata": {
        "id": "r2OGtr3UcuLr"
      },
      "outputs": [],
      "source": [
        "import tensorflow as tf\n",
        "import tensorflow.keras as keras"
      ]
    },
    {
      "cell_type": "code",
      "source": [
        "print(tf.__version__)"
      ],
      "metadata": {
        "colab": {
          "base_uri": "https://localhost:8080/"
        },
        "id": "E5FhaMx7hxzm",
        "outputId": "3fbab4eb-d8a8-4d5f-8e08-cae87f09c459"
      },
      "execution_count": null,
      "outputs": [
        {
          "output_type": "stream",
          "name": "stdout",
          "text": [
            "2.12.0\n"
          ]
        }
      ]
    },
    {
      "cell_type": "code",
      "source": [
        "fashion_mnist = tf.keras.datasets.fashion_mnist\n",
        "\n",
        "class_names = ['T-shirt/top', 'Trouser', 'Pullover', 'Dress', 'Coat',\n",
        "               'Sandal', 'Shirt', 'Sneaker', 'Bag', 'Ankle boot']"
      ],
      "metadata": {
        "id": "xDtpTfdCc_bd"
      },
      "execution_count": null,
      "outputs": []
    },
    {
      "cell_type": "code",
      "source": [
        "from keras.utils import to_categorical\n",
        "(train_images, train_labels), (test_images, test_labels) = fashion_mnist.load_data()\n",
        "train_labels = to_categorical(train_labels)\n",
        "test_labels = to_categorical(test_labels)"
      ],
      "metadata": {
        "id": "eesDp2VNdFCj",
        "colab": {
          "base_uri": "https://localhost:8080/"
        },
        "outputId": "53ad6645-3556-421b-854e-059d0b4d855d"
      },
      "execution_count": null,
      "outputs": [
        {
          "output_type": "stream",
          "name": "stdout",
          "text": [
            "Downloading data from https://storage.googleapis.com/tensorflow/tf-keras-datasets/train-labels-idx1-ubyte.gz\n",
            "29515/29515 [==============================] - 0s 0us/step\n",
            "Downloading data from https://storage.googleapis.com/tensorflow/tf-keras-datasets/train-images-idx3-ubyte.gz\n",
            "26421880/26421880 [==============================] - 0s 0us/step\n",
            "Downloading data from https://storage.googleapis.com/tensorflow/tf-keras-datasets/t10k-labels-idx1-ubyte.gz\n",
            "5148/5148 [==============================] - 0s 0us/step\n",
            "Downloading data from https://storage.googleapis.com/tensorflow/tf-keras-datasets/t10k-images-idx3-ubyte.gz\n",
            "4422102/4422102 [==============================] - 0s 0us/step\n"
          ]
        }
      ]
    },
    {
      "cell_type": "code",
      "source": [
        "train_images = train_images/255\n",
        "test_images = test_images/255"
      ],
      "metadata": {
        "id": "N7aiQfy7fLPR"
      },
      "execution_count": null,
      "outputs": []
    },
    {
      "cell_type": "code",
      "source": [
        "train_images.shape"
      ],
      "metadata": {
        "colab": {
          "base_uri": "https://localhost:8080/"
        },
        "id": "aoxs9YaNfv2f",
        "outputId": "a537b277-20bf-4018-ffac-40020aec0e54"
      },
      "execution_count": null,
      "outputs": [
        {
          "output_type": "execute_result",
          "data": {
            "text/plain": [
              "(60000, 28, 28)"
            ]
          },
          "metadata": {},
          "execution_count": 5
        }
      ]
    },
    {
      "cell_type": "code",
      "source": [
        "train_labels.shape"
      ],
      "metadata": {
        "colab": {
          "base_uri": "https://localhost:8080/"
        },
        "id": "kER-5KKoiNxs",
        "outputId": "744f5c0a-73f8-4534-f499-d51732887a66"
      },
      "execution_count": null,
      "outputs": [
        {
          "output_type": "execute_result",
          "data": {
            "text/plain": [
              "(60000, 10)"
            ]
          },
          "metadata": {},
          "execution_count": 6
        }
      ]
    },
    {
      "cell_type": "code",
      "source": [
        "test_images.shape"
      ],
      "metadata": {
        "colab": {
          "base_uri": "https://localhost:8080/"
        },
        "id": "BWJbMW9UiOJN",
        "outputId": "a2a1ed5f-d138-4e0e-9d47-276b3ae9b312"
      },
      "execution_count": null,
      "outputs": [
        {
          "output_type": "execute_result",
          "data": {
            "text/plain": [
              "(10000, 28, 28)"
            ]
          },
          "metadata": {},
          "execution_count": 7
        }
      ]
    },
    {
      "cell_type": "code",
      "source": [
        "test_labels.shape"
      ],
      "metadata": {
        "colab": {
          "base_uri": "https://localhost:8080/"
        },
        "id": "ODkRsQNAiQhE",
        "outputId": "fe0295db-c851-4b67-a1c0-86f08e8f9f3c"
      },
      "execution_count": null,
      "outputs": [
        {
          "output_type": "execute_result",
          "data": {
            "text/plain": [
              "(10000, 10)"
            ]
          },
          "metadata": {},
          "execution_count": 8
        }
      ]
    },
    {
      "cell_type": "code",
      "source": [
        "model = keras.Sequential([\n",
        "     keras.layers.Flatten(input_shape=(28,28)),\n",
        "     keras.layers.Dense(128, activation=tf.nn.relu),\n",
        "     keras.layers.Dense(10, activation=tf.nn.softmax)\n",
        "])\n",
        "\n",
        "model = keras.Sequential()\n",
        "model.add(keras.Input(shape=(28,28)))\n",
        "model.add(keras.layers.Flatten())\n",
        "model.add(keras.layers.Dense(128, activation=tf.nn.relu))\n",
        "model.add(keras.layers.Dense(10, activation=tf.nn.softmax))\n",
        "model.compile(optimizer=\"sgd\", loss=\"categorical_crossentropy\", metrics=['accuracy'])"
      ],
      "metadata": {
        "id": "9-UpUJlOdOX3"
      },
      "execution_count": null,
      "outputs": []
    },
    {
      "cell_type": "code",
      "source": [
        "my_callbacks = [\n",
        "    tf.keras.callbacks.EarlyStopping(patience=2, min_delta=0.001)\n",
        "]\n",
        "model.fit(train_images,train_labels,batch_size=16, epochs=10, validation_data=(test_images, test_labels), callbacks = my_callbacks)"
      ],
      "metadata": {
        "colab": {
          "base_uri": "https://localhost:8080/"
        },
        "id": "2g0NZdfoeDZv",
        "outputId": "d33078a4-5f61-41e9-eaa7-07a51ff948a7"
      },
      "execution_count": null,
      "outputs": [
        {
          "output_type": "stream",
          "name": "stdout",
          "text": [
            "Epoch 1/10\n",
            "3750/3750 [==============================] - 17s 3ms/step - loss: 0.6433 - accuracy: 0.7854 - val_loss: 0.5330 - val_accuracy: 0.8135\n",
            "Epoch 2/10\n",
            "3750/3750 [==============================] - 11s 3ms/step - loss: 0.4663 - accuracy: 0.8394 - val_loss: 0.4791 - val_accuracy: 0.8350\n",
            "Epoch 3/10\n",
            "3750/3750 [==============================] - 11s 3ms/step - loss: 0.4275 - accuracy: 0.8531 - val_loss: 0.4453 - val_accuracy: 0.8441\n",
            "Epoch 4/10\n",
            "3750/3750 [==============================] - 11s 3ms/step - loss: 0.4046 - accuracy: 0.8589 - val_loss: 0.4436 - val_accuracy: 0.8419\n",
            "Epoch 5/10\n",
            "3750/3750 [==============================] - 11s 3ms/step - loss: 0.3860 - accuracy: 0.8666 - val_loss: 0.4445 - val_accuracy: 0.8426\n",
            "Epoch 6/10\n",
            "3750/3750 [==============================] - 11s 3ms/step - loss: 0.3707 - accuracy: 0.8702 - val_loss: 0.4073 - val_accuracy: 0.8552\n",
            "Epoch 7/10\n",
            "3750/3750 [==============================] - 13s 4ms/step - loss: 0.3585 - accuracy: 0.8740 - val_loss: 0.3898 - val_accuracy: 0.8638\n",
            "Epoch 8/10\n",
            "3750/3750 [==============================] - 11s 3ms/step - loss: 0.3480 - accuracy: 0.8772 - val_loss: 0.3835 - val_accuracy: 0.8634\n",
            "Epoch 9/10\n",
            "3750/3750 [==============================] - 12s 3ms/step - loss: 0.3391 - accuracy: 0.8798 - val_loss: 0.3816 - val_accuracy: 0.8660\n",
            "Epoch 10/10\n",
            "3750/3750 [==============================] - 12s 3ms/step - loss: 0.3308 - accuracy: 0.8814 - val_loss: 0.3825 - val_accuracy: 0.8645\n"
          ]
        },
        {
          "output_type": "execute_result",
          "data": {
            "text/plain": [
              "<keras.callbacks.History at 0x7d48390fffd0>"
            ]
          },
          "metadata": {},
          "execution_count": 7
        }
      ]
    },
    {
      "cell_type": "code",
      "source": [
        "model.evaluate(test_images, test_labels)"
      ],
      "metadata": {
        "colab": {
          "base_uri": "https://localhost:8080/"
        },
        "id": "6EFAkQV-frAH",
        "outputId": "42957380-a54c-47d3-b16a-bad29ecde7ca"
      },
      "execution_count": null,
      "outputs": [
        {
          "output_type": "stream",
          "name": "stdout",
          "text": [
            "313/313 [==============================] - 1s 3ms/step - loss: 0.4029 - accuracy: 0.8565\n"
          ]
        },
        {
          "output_type": "execute_result",
          "data": {
            "text/plain": [
              "[0.40292099118232727, 0.8565000295639038]"
            ]
          },
          "metadata": {},
          "execution_count": 16
        }
      ]
    },
    {
      "cell_type": "markdown",
      "source": [
        "###Conv"
      ],
      "metadata": {
        "id": "9jiX3c92hyWZ"
      }
    },
    {
      "cell_type": "code",
      "source": [
        "model = keras.Sequential()\n",
        "model.add(keras.Input(shape = (28,28,1)))\n",
        "model.add(keras.layers.Conv2D(128, (3,3), activation='relu'))\n",
        "model.add(keras.layers.MaxPooling2D((2,2)))\n",
        "model.add(keras.layers.Conv2D(64, (3,3), activation='relu'))\n",
        "model.add(keras.layers.MaxPooling2D((2,2)))\n",
        "model.add(keras.layers.Flatten())\n",
        "model.add(keras.layers.Dense(128, activation='relu'))\n",
        "model.add(keras.layers.Dense(10, activation='softmax'))\n",
        "model.compile(optimizer=\"sgd\", loss=\"categorical_crossentropy\", metrics=['accuracy'])"
      ],
      "metadata": {
        "id": "exhgJl3Ggw-V"
      },
      "execution_count": null,
      "outputs": []
    },
    {
      "cell_type": "code",
      "source": [
        "class ConvolutionLayer(keras.layers.Layer):\n",
        "  def __init__(self):\n",
        "      super().__init__()\n",
        "      self.conv_1 = keras.layers.Conv2D(128, (3,3))\n",
        "      self.pool = keras.layers.MaxPooling2D((2,2))\n",
        "      self.conv_2 = keras.layers.Conv2D(64, (3,3))\n",
        "      self.flatten = keras.layers.Flatten()\n",
        "\n",
        "  def call(self, inputs):\n",
        "      x = self.conv_1(inputs)\n",
        "      x = tf.nn.relu(x)\n",
        "      x = self.pool(x)\n",
        "      x = self.conv_2(x)\n",
        "      x = tf.nn.relu(x)\n",
        "      x = self.pool(x)\n",
        "      return self.flatten(x)\n",
        "\n",
        "class MLP(keras.layers.Layer):\n",
        "  def __init__(self):\n",
        "      super().__init__()\n",
        "      self.linear_1 = keras.layers.Dense(128)\n",
        "      self.linear_2 = keras.layers.Dense(10)\n",
        "\n",
        "  def call(self, inputs):\n",
        "      x = self.linear_1(inputs)\n",
        "      x = tf.nn.relu(x)\n",
        "      x = self.linear_2(x)\n",
        "      return tf.nn.softmax(x)"
      ],
      "metadata": {
        "id": "Fm-uIuebl6lz"
      },
      "execution_count": null,
      "outputs": []
    },
    {
      "cell_type": "code",
      "source": [
        "'''\n",
        "model = keras.Sequential([\n",
        "      keras.Input(shape = (28,28,1)),\n",
        "      ConvolutionLayer(),\n",
        "      MLP()\n",
        "])\n",
        "'''\n",
        "input = keras.Input(shape = (28,28,1), name=\"input layer\")\n",
        "h_c = ConvolutionLayer()(input)\n",
        "y_hat = MLP()(h_c)\n",
        "model = keras.Model(inputs=input, outputs = y_hat)\n",
        "\n",
        "model.summary()"
      ],
      "metadata": {
        "id": "3IwHdzzOoLlq",
        "colab": {
          "base_uri": "https://localhost:8080/"
        },
        "outputId": "7287f1b3-5ac4-4754-addd-2f2f925d38ac"
      },
      "execution_count": null,
      "outputs": [
        {
          "output_type": "stream",
          "name": "stdout",
          "text": [
            "Model: \"model_1\"\n",
            "_________________________________________________________________\n",
            " Layer (type)                Output Shape              Param #   \n",
            "=================================================================\n",
            " input layer (InputLayer)    [(None, 28, 28, 1)]       0         \n",
            "                                                                 \n",
            " convolution_layer_2 (Convol  (None, 1600)             75072     \n",
            " utionLayer)                                                     \n",
            "                                                                 \n",
            " mlp_1 (MLP)                 (None, 10)                206218    \n",
            "                                                                 \n",
            "=================================================================\n",
            "Total params: 281,290\n",
            "Trainable params: 281,290\n",
            "Non-trainable params: 0\n",
            "_________________________________________________________________\n"
          ]
        }
      ]
    },
    {
      "cell_type": "code",
      "source": [
        "class CobaCallback(keras.callbacks.Callback):\n",
        "    def __init__(self):\n",
        "        super(CobaCallback, self).__init__()\n",
        "        self.train_loss = []\n",
        "        self.val_loss = []\n",
        "        self.train_f1 = []\n",
        "        self.val_f1 = []\n",
        "\n",
        "    def on_epoch_end(self, batch, logs={}):\n",
        "        self.train_loss.append(logs.get('loss'))\n",
        "        self.val_loss.append(logs.get('val_loss'))\n",
        "        self.train_f1.append(logs.get('f1_score'))\n",
        "        self.val_f1.append(logs.get('val_f1_score'))"
      ],
      "metadata": {
        "id": "M7Q59vR5By8M"
      },
      "execution_count": null,
      "outputs": []
    },
    {
      "cell_type": "code",
      "source": [
        "custom_call = CobaCallback()\n",
        "my_callbacks = [\n",
        "    tf.keras.callbacks.EarlyStopping(patience=2, min_delta=0.001),\n",
        "    tf.keras.callbacks.CSVLogger('/content/log.csv', separator=\",\", append=False),\n",
        "    custom_call\n",
        "]"
      ],
      "metadata": {
        "id": "A3xXTza-ZZwO"
      },
      "execution_count": null,
      "outputs": []
    },
    {
      "cell_type": "code",
      "source": [
        "!pip install pip install tensorflow-addons\n",
        "import tensorflow_addons as tfa\n",
        "from keras import metrics\n",
        "f1 = tfa.metrics.F1Score(num_classes = 10, average='macro')"
      ],
      "metadata": {
        "colab": {
          "base_uri": "https://localhost:8080/"
        },
        "id": "1YJMJ44Cb_6j",
        "outputId": "27f837bd-23b4-4440-d8d3-417f5ca0405e"
      },
      "execution_count": null,
      "outputs": [
        {
          "output_type": "stream",
          "name": "stdout",
          "text": [
            "Requirement already satisfied: pip in /usr/local/lib/python3.10/dist-packages (23.1.2)\n",
            "Collecting install\n",
            "  Downloading install-1.3.5-py3-none-any.whl (3.2 kB)\n",
            "Collecting tensorflow-addons\n",
            "  Downloading tensorflow_addons-0.21.0-cp310-cp310-manylinux_2_17_x86_64.manylinux2014_x86_64.whl (612 kB)\n",
            "\u001b[2K     \u001b[90m━━━━━━━━━━━━━━━━━━━━━━━━━━━━━━━━━━━━━━━\u001b[0m \u001b[32m612.1/612.1 kB\u001b[0m \u001b[31m6.2 MB/s\u001b[0m eta \u001b[36m0:00:00\u001b[0m\n",
            "\u001b[?25hRequirement already satisfied: packaging in /usr/local/lib/python3.10/dist-packages (from tensorflow-addons) (23.1)\n",
            "Collecting typeguard<3.0.0,>=2.7 (from tensorflow-addons)\n",
            "  Downloading typeguard-2.13.3-py3-none-any.whl (17 kB)\n",
            "Installing collected packages: typeguard, install, tensorflow-addons\n",
            "Successfully installed install-1.3.5 tensorflow-addons-0.21.0 typeguard-2.13.3\n"
          ]
        },
        {
          "output_type": "stream",
          "name": "stderr",
          "text": [
            "/usr/local/lib/python3.10/dist-packages/tensorflow_addons/utils/tfa_eol_msg.py:23: UserWarning: \n",
            "\n",
            "TensorFlow Addons (TFA) has ended development and introduction of new features.\n",
            "TFA has entered a minimal maintenance and release mode until a planned end of life in May 2024.\n",
            "Please modify downstream libraries to take dependencies from other repositories in our TensorFlow community (e.g. Keras, Keras-CV, and Keras-NLP). \n",
            "\n",
            "For more information see: https://github.com/tensorflow/addons/issues/2807 \n",
            "\n",
            "  warnings.warn(\n"
          ]
        }
      ]
    },
    {
      "cell_type": "code",
      "source": [
        "model.compile(optimizer=\"adam\", loss=\"categorical_crossentropy\", metrics=['accuracy', f1])"
      ],
      "metadata": {
        "id": "6ZY7fU65pPFm"
      },
      "execution_count": null,
      "outputs": []
    },
    {
      "cell_type": "code",
      "source": [
        "history = model.fit(train_images, train_labels, batch_size=256, epochs=10, validation_data=(test_images, test_labels), callbacks =my_callbacks)"
      ],
      "metadata": {
        "colab": {
          "base_uri": "https://localhost:8080/"
        },
        "id": "jpx0QUj_i1cJ",
        "outputId": "ebaea3dd-c685-48ed-a57c-ad89efded204"
      },
      "execution_count": null,
      "outputs": [
        {
          "output_type": "stream",
          "name": "stdout",
          "text": [
            "Epoch 1/10\n",
            "  5/235 [..............................] - ETA: 3s - loss: 0.2629 - accuracy: 0.9016 - f1_score: 0.9033"
          ]
        },
        {
          "output_type": "stream",
          "name": "stderr",
          "text": [
            "WARNING:tensorflow:Callback method `on_train_batch_end` is slow compared to the batch time (batch time: 0.0068s vs `on_train_batch_end` time: 0.0079s). Check your callbacks.\n"
          ]
        },
        {
          "output_type": "stream",
          "name": "stdout",
          "text": [
            "235/235 [==============================] - 3s 13ms/step - loss: 0.2669 - accuracy: 0.9032 - f1_score: 0.9030 - val_loss: 0.2864 - val_accuracy: 0.8974 - val_f1_score: 0.8968\n",
            "Epoch 2/10\n",
            "235/235 [==============================] - 3s 14ms/step - loss: 0.2410 - accuracy: 0.9124 - f1_score: 0.9122 - val_loss: 0.2878 - val_accuracy: 0.8975 - val_f1_score: 0.8968\n",
            "Epoch 3/10\n",
            "235/235 [==============================] - 3s 13ms/step - loss: 0.2277 - accuracy: 0.9170 - f1_score: 0.9168 - val_loss: 0.2787 - val_accuracy: 0.8999 - val_f1_score: 0.9001\n",
            "Epoch 4/10\n",
            "235/235 [==============================] - 3s 13ms/step - loss: 0.2131 - accuracy: 0.9219 - f1_score: 0.9217 - val_loss: 0.2718 - val_accuracy: 0.9024 - val_f1_score: 0.9007\n",
            "Epoch 5/10\n",
            "235/235 [==============================] - 3s 13ms/step - loss: 0.1962 - accuracy: 0.9283 - f1_score: 0.9282 - val_loss: 0.2656 - val_accuracy: 0.9053 - val_f1_score: 0.9055\n",
            "Epoch 6/10\n",
            "235/235 [==============================] - 3s 14ms/step - loss: 0.1860 - accuracy: 0.9315 - f1_score: 0.9314 - val_loss: 0.2611 - val_accuracy: 0.9049 - val_f1_score: 0.9047\n",
            "Epoch 7/10\n",
            "235/235 [==============================] - 3s 13ms/step - loss: 0.1765 - accuracy: 0.9339 - f1_score: 0.9338 - val_loss: 0.2941 - val_accuracy: 0.8992 - val_f1_score: 0.8985\n",
            "Epoch 8/10\n",
            "235/235 [==============================] - 4s 15ms/step - loss: 0.1647 - accuracy: 0.9393 - f1_score: 0.9392 - val_loss: 0.2607 - val_accuracy: 0.9092 - val_f1_score: 0.9090\n"
          ]
        }
      ]
    },
    {
      "cell_type": "code",
      "source": [
        "model.evaluate(test_images, test_labels)"
      ],
      "metadata": {
        "colab": {
          "base_uri": "https://localhost:8080/"
        },
        "id": "rF5xTynOn4bG",
        "outputId": "4562d0b8-e319-47d1-d0af-54cde4454949"
      },
      "execution_count": null,
      "outputs": [
        {
          "output_type": "stream",
          "name": "stdout",
          "text": [
            "313/313 [==============================] - 2s 7ms/step - loss: 0.2607 - accuracy: 0.9092 - f1_score: 0.9090\n"
          ]
        },
        {
          "output_type": "execute_result",
          "data": {
            "text/plain": [
              "[0.2607361972332001, 0.9092000126838684, 0.9089983105659485]"
            ]
          },
          "metadata": {},
          "execution_count": 44
        }
      ]
    },
    {
      "cell_type": "code",
      "source": [
        "import matplotlib.pyplot as plt\n",
        "%matplotlib inline\n",
        "fig, loss_graph = plt.subplots()\n",
        "\n",
        "performance = loss_graph.twinx()\n",
        "\n",
        "loss_graph.plot(custom_call.train_loss, 'y', label = 'train loss')\n",
        "loss_graph.plot(custom_call.val_loss, 'r', label = 'val loss')\n",
        "\n",
        "performance.plot(custom_call.train_f1, 'b', label = 'train F1-Score')\n",
        "performance.plot(custom_call.val_f1, 'g', label = 'val F1-Score')\n",
        "\n",
        "loss_graph.set_xlabel('epoch')\n",
        "loss_graph.set_ylabel('loss')\n",
        "performance.set_ylabel('accuaracy')\n",
        "loss_graph.legend(loc = 'upper left')\n",
        "performance.legend(loc = 'lower left')"
      ],
      "metadata": {
        "colab": {
          "base_uri": "https://localhost:8080/",
          "height": 466
        },
        "id": "rVfJeYwqIE-6",
        "outputId": "e0fa2182-cca3-4266-deb9-d9306aee51db"
      },
      "execution_count": null,
      "outputs": [
        {
          "output_type": "execute_result",
          "data": {
            "text/plain": [
              "<matplotlib.legend.Legend at 0x79fca0166a70>"
            ]
          },
          "metadata": {},
          "execution_count": 47
        },
        {
          "output_type": "display_data",
          "data": {
            "text/plain": [
              "<Figure size 640x480 with 2 Axes>"
            ],
            "image/png": "[encoded data removed]"
          },
          "metadata": {}
        }
      ]
    },
    {
      "cell_type": "code",
      "source": [
        "def preprocess_image(image_path):\n",
        "    image = tf.io.read_file(image_path)\n",
        "    image = tf.image.decode_image(image, channels=1)\n",
        "    image = tf.image.resize(image, (28, 28))\n",
        "    return image\n",
        "\n",
        "image_path = \"/content/test.png\"\n",
        "\n",
        "preprocessed_image = preprocess_image(image_path)\n",
        "preprocessed_image = preprocessed_image/255\n",
        "preprocessed_image= tf.reshape(preprocessed_image, (-1,28,28,1))\n"
      ],
      "metadata": {
        "id": "fQdk0oZNn5_N"
      },
      "execution_count": null,
      "outputs": []
    },
    {
      "cell_type": "code",
      "source": [
        "class_names = ['T-shirt/top', 'Trouser', 'Pullover', 'Dress', 'Coat',\n",
        "               'Sandal', 'Shirt', 'Sneaker', 'Bag', 'Ankle boot']\n",
        "predictions = model.predict(preprocessed_image)\n",
        "print(class_names[tf.argmax(predictions, axis=1).numpy()[0]])"
      ],
      "metadata": {
        "id": "uL1CaaAetp3B",
        "colab": {
          "base_uri": "https://localhost:8080/"
        },
        "outputId": "57ee41c1-e2f6-472a-9fb5-76df2ef1b66e"
      },
      "execution_count": null,
      "outputs": [
        {
          "output_type": "stream",
          "name": "stdout",
          "text": [
            "1/1 [==============================] - 0s 166ms/step\n",
            "Trouser\n"
          ]
        }
      ]
    }
  ]
}